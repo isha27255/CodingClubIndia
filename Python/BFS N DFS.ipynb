{
 "cells": [
  {
   "cell_type": "code",
   "execution_count": 9,
   "metadata": {},
   "outputs": [
    {
     "name": "stdout",
     "output_type": "stream",
     "text": [
      "['A', 'B', 'C', 'E', 'D', 'F', 'G']\n"
     ]
    }
   ],
   "source": [
    "#BFS Agorithm\n",
    "graph = {'A': ['B', 'C', 'E'],\n",
    "'B': ['D', 'E'],\n",
    "'C': ['F', 'G'],\n",
    "'D': [],\n",
    "'E': [],\n",
    "'F': [],\n",
    "'G': []}\n",
    "def bfs(graph, initial):\n",
    "    visited = []\n",
    "    queue = [initial]\n",
    "    while queue:\n",
    "        node = queue.pop(0)\n",
    "        if node not in visited:\n",
    "            visited.append(node)\n",
    "        neighbours = graph[node]\n",
    "        for neighbour in neighbours:\n",
    "            queue.append(neighbour)\n",
    "    return visited\n",
    "print(bfs(graph,'A'))"
   ]
  },
  {
   "cell_type": "code",
   "execution_count": 1,
   "metadata": {},
   "outputs": [
    {
     "data": {
      "text/plain": [
       "['A', 'B', 'D', 'E', 'C', 'F', 'G']"
      ]
     },
     "execution_count": 1,
     "metadata": {},
     "output_type": "execute_result"
    }
   ],
   "source": [
    "#DFS Algorithm\n",
    "graph = {'A': ['B', 'C', 'E'],\n",
    "'B': ['D', 'E'],\n",
    "'C': ['F', 'G'],\n",
    "'D': [],\n",
    "'E': [],\n",
    "'F': [],\n",
    "'G': []}\n",
    "visited = []\n",
    "def dfs(graph, start, visited):\n",
    "    if start not in visited:\n",
    "        visited.append(start)\n",
    "    for next in graph[start]:\n",
    "        dfs(graph, next, visited)\n",
    "    return visited\n",
    "dfs(graph, 'A',visited)"
   ]
  },
  {
   "cell_type": "code",
   "execution_count": null,
   "metadata": {},
   "outputs": [],
   "source": []
  }
 ],
 "metadata": {
  "kernelspec": {
   "display_name": "Python 3",
   "language": "python",
   "name": "python3"
  },
  "language_info": {
   "codemirror_mode": {
    "name": "ipython",
    "version": 3
   },
   "file_extension": ".py",
   "mimetype": "text/x-python",
   "name": "python",
   "nbconvert_exporter": "python",
   "pygments_lexer": "ipython3",
   "version": "3.8.5"
  }
 },
 "nbformat": 4,
 "nbformat_minor": 4
}
