{
 "cells": [
  {
   "cell_type": "code",
   "execution_count": 19,
   "metadata": {},
   "outputs": [],
   "source": [
    "class Book:\n",
    "    \n",
    "    BOOK_TYPES = (\"HARDCOVER\", \"PAPERBACK\", \"EBOOK\")\n",
    "    __booklist = None\n",
    "    \n",
    "    @classmethod\n",
    "    def getbooktypes(cls):\n",
    "        return cls.BOOK_TYPES\n",
    "    \n",
    "        \n",
    "    def __init__(self, title, author, pages, price, booktype):\n",
    "        self.title = title\n",
    "        self.author = author\n",
    "        self.pages = pages\n",
    "        self.price = price\n",
    "        if (not booktype in Book.BOOK_TYPES):\n",
    "            raise ValueError(f\"{booktype} is not a valid booktype.\")\n",
    "        self.booktype = booktype\n",
    "        \n",
    "    @staticmethod\n",
    "    def getbooklist():\n",
    "        if Book.__booklist == None:\n",
    "            Book.__booklist = []\n",
    "        return Book.__booklist\n",
    "        \n",
    "    def getprice(self):\n",
    "        if hasattr(self, \"_discount\"):\n",
    "            return self.price - (self.price*self._discount)\n",
    "        else:\n",
    "            return self.price\n",
    "        \n",
    "    def setdiscount(self,amount):\n",
    "        self._discount = amount\n",
    "        \n"
   ]
  },
  {
   "cell_type": "code",
   "execution_count": 9,
   "metadata": {},
   "outputs": [],
   "source": [
    "b1 = Book(\"War and Peace\", \"Leo Tolstoy\", 1225, 39.95)\n",
    "b2 = Book(\"The catcher in the Rye\", \"JD Salinger\", 234, 29.95)\n",
    "\n"
   ]
  },
  {
   "cell_type": "code",
   "execution_count": 10,
   "metadata": {},
   "outputs": [
    {
     "name": "stdout",
     "output_type": "stream",
     "text": [
      "39.95\n"
     ]
    }
   ],
   "source": [
    "print(b1.getprice())"
   ]
  },
  {
   "cell_type": "code",
   "execution_count": 11,
   "metadata": {},
   "outputs": [
    {
     "name": "stdout",
     "output_type": "stream",
     "text": [
      "29.95\n",
      "22.4625\n"
     ]
    }
   ],
   "source": [
    "print(b2.getprice())\n",
    "b2.setdiscount(0.25)\n",
    "print(b2.getprice())"
   ]
  },
  {
   "cell_type": "code",
   "execution_count": 20,
   "metadata": {},
   "outputs": [
    {
     "name": "stdout",
     "output_type": "stream",
     "text": [
      "Book types: ('HARDCOVER', 'PAPERBACK', 'EBOOK')\n"
     ]
    }
   ],
   "source": [
    "\n",
    "print(\"Book types:\", Book.getbooktypes())\n",
    "b1 = Book(\"War and Peace\", \"Leo Tolstoy\", 1225, 39.95, \"HARDCOVER\")\n",
    "b2 = Book(\"War and Peace\", \"Leo Tolstoy\", 1225, 39.95, \"PAPERBACK\")\n"
   ]
  },
  {
   "cell_type": "code",
   "execution_count": 22,
   "metadata": {},
   "outputs": [],
   "source": [
    "booklist = Book.getbooklist()\n",
    "booklist.append(b1)\n",
    "booklist.append(b2)"
   ]
  },
  {
   "cell_type": "code",
   "execution_count": 23,
   "metadata": {},
   "outputs": [
    {
     "data": {
      "text/plain": [
       "[<__main__.Book at 0x1d32693c6a0>, <__main__.Book at 0x1d32693c970>]"
      ]
     },
     "execution_count": 23,
     "metadata": {},
     "output_type": "execute_result"
    }
   ],
   "source": [
    "booklist"
   ]
  },
  {
   "cell_type": "code",
   "execution_count": 24,
   "metadata": {},
   "outputs": [
    {
     "data": {
      "text/plain": [
       "'War and Peace'"
      ]
     },
     "execution_count": 24,
     "metadata": {},
     "output_type": "execute_result"
    }
   ],
   "source": [
    "booklist[0].title"
   ]
  },
  {
   "cell_type": "code",
   "execution_count": null,
   "metadata": {},
   "outputs": [],
   "source": []
  }
 ],
 "metadata": {
  "kernelspec": {
   "display_name": "Python 3",
   "language": "python",
   "name": "python3"
  },
  "language_info": {
   "codemirror_mode": {
    "name": "ipython",
    "version": 3
   },
   "file_extension": ".py",
   "mimetype": "text/x-python",
   "name": "python",
   "nbconvert_exporter": "python",
   "pygments_lexer": "ipython3",
   "version": "3.8.5"
  }
 },
 "nbformat": 4,
 "nbformat_minor": 4
}
